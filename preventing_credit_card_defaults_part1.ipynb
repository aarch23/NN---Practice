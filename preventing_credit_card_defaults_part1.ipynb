{
 "cells": [
  {
   "cell_type": "markdown",
   "metadata": {},
   "source": [
    "# Preventing Credit Card Defaults - Part 1\n",
    "\n",
    "In this activity, you will use Keras to build a neural network model that predicts whether a credit card customer will default on their debt. You will apply what you learned in the previous demonstration. But, instead of using a dataset that contains 2 features, you will build a neural network model from a dataset that contains 22 features and 1 target.\n",
    "\n",
    "## Instructions:\n",
    "\n",
    "1. Read the CSV file from the Resources folder into a Pandas DataFrame.\n",
    "\n",
    "2. Define the features set `X` by including all of the DataFrame columns except the “DEFAULT” column.\n",
    "\n",
    "3. Create the target `y` by assigning the values of the DataFrame “DEFAULT” column.\n",
    "\n",
    "4. Create the training and testing sets using the `train_test_split` function from scikit-learn.\n",
    "\n",
    "5. Scale the features data using the `StandardScaler` from sklearn.\n",
    "\n",
    "6. Create a neural network model with an input layer that consists of 22 inputs, one hidden layer, and an output layer. Use the `units` parameter to define 12 neurons for the hidden layer and a single output for the output layer. Use the ReLU activation function for the hidden layer and the sigmoid activation function for the output layer.\n",
    "\n",
    "7. Display the model structure using the `summary` function.\n",
    "\n",
    "## References:\n",
    "\n",
    "[Keras Sequential model](https://keras.io/api/models/sequential/)\n",
    "\n",
    "[Keras Dense module](https://keras.io/api/layers/core_layers/dense/)\n"
   ]
  },
  {
   "cell_type": "code",
   "execution_count": 39,
   "metadata": {},
   "outputs": [],
   "source": [
    "# Imports\n",
    "import pandas as pd\n",
    "from path import Path\n",
    "from sklearn.preprocessing import StandardScaler\n",
    "from sklearn.model_selection import train_test_split\n",
    "\n",
    "%matplotlib inline"
   ]
  },
  {
   "cell_type": "markdown",
   "metadata": {},
   "source": [
    "## Step 1:  Read the CSV file from the Resources folder into a Pandas DataFrame."
   ]
  },
  {
   "cell_type": "code",
   "execution_count": 40,
   "metadata": {},
   "outputs": [
    {
     "data": {
      "text/html": [
       "<div>\n",
       "<style scoped>\n",
       "    .dataframe tbody tr th:only-of-type {\n",
       "        vertical-align: middle;\n",
       "    }\n",
       "\n",
       "    .dataframe tbody tr th {\n",
       "        vertical-align: top;\n",
       "    }\n",
       "\n",
       "    .dataframe thead th {\n",
       "        text-align: right;\n",
       "    }\n",
       "</style>\n",
       "<table border=\"1\" class=\"dataframe\">\n",
       "  <thead>\n",
       "    <tr style=\"text-align: right;\">\n",
       "      <th></th>\n",
       "      <th>LIMIT_BAL</th>\n",
       "      <th>EDUCATION</th>\n",
       "      <th>MARITAL_STATUS</th>\n",
       "      <th>AGE</th>\n",
       "      <th>PAY_0</th>\n",
       "      <th>PAY_2</th>\n",
       "      <th>PAY_3</th>\n",
       "      <th>PAY_4</th>\n",
       "      <th>PAY_5</th>\n",
       "      <th>PAY_6</th>\n",
       "      <th>...</th>\n",
       "      <th>\"BILL_AMT4\"</th>\n",
       "      <th>BILL_AMT5</th>\n",
       "      <th>BILL_AMT6</th>\n",
       "      <th>PAY_AMT1</th>\n",
       "      <th>PAY_AMT2</th>\n",
       "      <th>PAY_AMT3</th>\n",
       "      <th>PAY_AMT4</th>\n",
       "      <th>PAY_AMT5</th>\n",
       "      <th>PAY_AMT6</th>\n",
       "      <th>DEFAULT</th>\n",
       "    </tr>\n",
       "  </thead>\n",
       "  <tbody>\n",
       "    <tr>\n",
       "      <th>0</th>\n",
       "      <td>20000</td>\n",
       "      <td>2</td>\n",
       "      <td>1</td>\n",
       "      <td>24</td>\n",
       "      <td>2</td>\n",
       "      <td>2</td>\n",
       "      <td>-1</td>\n",
       "      <td>-1</td>\n",
       "      <td>-2</td>\n",
       "      <td>-2</td>\n",
       "      <td>...</td>\n",
       "      <td>0</td>\n",
       "      <td>0</td>\n",
       "      <td>0</td>\n",
       "      <td>0</td>\n",
       "      <td>689</td>\n",
       "      <td>0</td>\n",
       "      <td>0</td>\n",
       "      <td>0</td>\n",
       "      <td>0</td>\n",
       "      <td>1</td>\n",
       "    </tr>\n",
       "    <tr>\n",
       "      <th>1</th>\n",
       "      <td>120000</td>\n",
       "      <td>2</td>\n",
       "      <td>2</td>\n",
       "      <td>26</td>\n",
       "      <td>-1</td>\n",
       "      <td>2</td>\n",
       "      <td>0</td>\n",
       "      <td>0</td>\n",
       "      <td>0</td>\n",
       "      <td>2</td>\n",
       "      <td>...</td>\n",
       "      <td>3272</td>\n",
       "      <td>3455</td>\n",
       "      <td>3261</td>\n",
       "      <td>0</td>\n",
       "      <td>1000</td>\n",
       "      <td>1000</td>\n",
       "      <td>1000</td>\n",
       "      <td>0</td>\n",
       "      <td>2000</td>\n",
       "      <td>1</td>\n",
       "    </tr>\n",
       "    <tr>\n",
       "      <th>2</th>\n",
       "      <td>90000</td>\n",
       "      <td>2</td>\n",
       "      <td>2</td>\n",
       "      <td>34</td>\n",
       "      <td>0</td>\n",
       "      <td>0</td>\n",
       "      <td>0</td>\n",
       "      <td>0</td>\n",
       "      <td>0</td>\n",
       "      <td>0</td>\n",
       "      <td>...</td>\n",
       "      <td>14331</td>\n",
       "      <td>14948</td>\n",
       "      <td>15549</td>\n",
       "      <td>1518</td>\n",
       "      <td>1500</td>\n",
       "      <td>1000</td>\n",
       "      <td>1000</td>\n",
       "      <td>1000</td>\n",
       "      <td>5000</td>\n",
       "      <td>0</td>\n",
       "    </tr>\n",
       "    <tr>\n",
       "      <th>3</th>\n",
       "      <td>50000</td>\n",
       "      <td>2</td>\n",
       "      <td>1</td>\n",
       "      <td>37</td>\n",
       "      <td>0</td>\n",
       "      <td>0</td>\n",
       "      <td>0</td>\n",
       "      <td>0</td>\n",
       "      <td>0</td>\n",
       "      <td>0</td>\n",
       "      <td>...</td>\n",
       "      <td>28314</td>\n",
       "      <td>28959</td>\n",
       "      <td>29547</td>\n",
       "      <td>2000</td>\n",
       "      <td>2019</td>\n",
       "      <td>1200</td>\n",
       "      <td>1100</td>\n",
       "      <td>1069</td>\n",
       "      <td>1000</td>\n",
       "      <td>0</td>\n",
       "    </tr>\n",
       "    <tr>\n",
       "      <th>4</th>\n",
       "      <td>50000</td>\n",
       "      <td>2</td>\n",
       "      <td>1</td>\n",
       "      <td>57</td>\n",
       "      <td>-1</td>\n",
       "      <td>0</td>\n",
       "      <td>-1</td>\n",
       "      <td>0</td>\n",
       "      <td>0</td>\n",
       "      <td>0</td>\n",
       "      <td>...</td>\n",
       "      <td>20940</td>\n",
       "      <td>19146</td>\n",
       "      <td>19131</td>\n",
       "      <td>2000</td>\n",
       "      <td>36681</td>\n",
       "      <td>10000</td>\n",
       "      <td>9000</td>\n",
       "      <td>689</td>\n",
       "      <td>679</td>\n",
       "      <td>0</td>\n",
       "    </tr>\n",
       "  </tbody>\n",
       "</table>\n",
       "<p>5 rows × 23 columns</p>\n",
       "</div>"
      ],
      "text/plain": [
       "   LIMIT_BAL  EDUCATION  MARITAL_STATUS  AGE  PAY_0  PAY_2  PAY_3  PAY_4  \\\n",
       "0      20000          2               1   24      2      2     -1     -1   \n",
       "1     120000          2               2   26     -1      2      0      0   \n",
       "2      90000          2               2   34      0      0      0      0   \n",
       "3      50000          2               1   37      0      0      0      0   \n",
       "4      50000          2               1   57     -1      0     -1      0   \n",
       "\n",
       "   PAY_5  PAY_6  ...           \"BILL_AMT4\"  BILL_AMT5  BILL_AMT6  PAY_AMT1  \\\n",
       "0     -2     -2  ...                     0          0          0         0   \n",
       "1      0      2  ...                  3272       3455       3261         0   \n",
       "2      0      0  ...                 14331      14948      15549      1518   \n",
       "3      0      0  ...                 28314      28959      29547      2000   \n",
       "4      0      0  ...                 20940      19146      19131      2000   \n",
       "\n",
       "   PAY_AMT2  PAY_AMT3  PAY_AMT4  PAY_AMT5  PAY_AMT6  DEFAULT  \n",
       "0       689         0         0         0         0        1  \n",
       "1      1000      1000      1000         0      2000        1  \n",
       "2      1500      1000      1000      1000      5000        0  \n",
       "3      2019      1200      1100      1069      1000        0  \n",
       "4     36681     10000      9000       689       679        0  \n",
       "\n",
       "[5 rows x 23 columns]"
      ]
     },
     "execution_count": 40,
     "metadata": {},
     "output_type": "execute_result"
    }
   ],
   "source": [
    "# Read the cc_default.csv file from the Resources folder into a Pandas DataFrame\n",
    "cc_df = pd.read_csv(\n",
    "    Path(\"../Resources/cc_default.csv\")\n",
    ")\n",
    "\n",
    "# Review the DataFrame\n",
    "cc_df.head()\n"
   ]
  },
  {
   "cell_type": "markdown",
   "metadata": {},
   "source": [
    "## Step 2: Define the features set `X` by including all of the DataFrame columns except the “DEFAULT” column."
   ]
  },
  {
   "cell_type": "code",
   "execution_count": 41,
   "metadata": {},
   "outputs": [
    {
     "data": {
      "text/html": [
       "<div>\n",
       "<style scoped>\n",
       "    .dataframe tbody tr th:only-of-type {\n",
       "        vertical-align: middle;\n",
       "    }\n",
       "\n",
       "    .dataframe tbody tr th {\n",
       "        vertical-align: top;\n",
       "    }\n",
       "\n",
       "    .dataframe thead th {\n",
       "        text-align: right;\n",
       "    }\n",
       "</style>\n",
       "<table border=\"1\" class=\"dataframe\">\n",
       "  <thead>\n",
       "    <tr style=\"text-align: right;\">\n",
       "      <th></th>\n",
       "      <th>LIMIT_BAL</th>\n",
       "      <th>EDUCATION</th>\n",
       "      <th>MARITAL_STATUS</th>\n",
       "      <th>AGE</th>\n",
       "      <th>PAY_0</th>\n",
       "      <th>PAY_2</th>\n",
       "      <th>PAY_3</th>\n",
       "      <th>PAY_4</th>\n",
       "      <th>PAY_5</th>\n",
       "      <th>PAY_6</th>\n",
       "      <th>...</th>\n",
       "      <th>BILL_AMT3</th>\n",
       "      <th>\"BILL_AMT4\"</th>\n",
       "      <th>BILL_AMT5</th>\n",
       "      <th>BILL_AMT6</th>\n",
       "      <th>PAY_AMT1</th>\n",
       "      <th>PAY_AMT2</th>\n",
       "      <th>PAY_AMT3</th>\n",
       "      <th>PAY_AMT4</th>\n",
       "      <th>PAY_AMT5</th>\n",
       "      <th>PAY_AMT6</th>\n",
       "    </tr>\n",
       "  </thead>\n",
       "  <tbody>\n",
       "    <tr>\n",
       "      <th>0</th>\n",
       "      <td>20000</td>\n",
       "      <td>2</td>\n",
       "      <td>1</td>\n",
       "      <td>24</td>\n",
       "      <td>2</td>\n",
       "      <td>2</td>\n",
       "      <td>-1</td>\n",
       "      <td>-1</td>\n",
       "      <td>-2</td>\n",
       "      <td>-2</td>\n",
       "      <td>...</td>\n",
       "      <td>689</td>\n",
       "      <td>0</td>\n",
       "      <td>0</td>\n",
       "      <td>0</td>\n",
       "      <td>0</td>\n",
       "      <td>689</td>\n",
       "      <td>0</td>\n",
       "      <td>0</td>\n",
       "      <td>0</td>\n",
       "      <td>0</td>\n",
       "    </tr>\n",
       "    <tr>\n",
       "      <th>1</th>\n",
       "      <td>120000</td>\n",
       "      <td>2</td>\n",
       "      <td>2</td>\n",
       "      <td>26</td>\n",
       "      <td>-1</td>\n",
       "      <td>2</td>\n",
       "      <td>0</td>\n",
       "      <td>0</td>\n",
       "      <td>0</td>\n",
       "      <td>2</td>\n",
       "      <td>...</td>\n",
       "      <td>2682</td>\n",
       "      <td>3272</td>\n",
       "      <td>3455</td>\n",
       "      <td>3261</td>\n",
       "      <td>0</td>\n",
       "      <td>1000</td>\n",
       "      <td>1000</td>\n",
       "      <td>1000</td>\n",
       "      <td>0</td>\n",
       "      <td>2000</td>\n",
       "    </tr>\n",
       "    <tr>\n",
       "      <th>2</th>\n",
       "      <td>90000</td>\n",
       "      <td>2</td>\n",
       "      <td>2</td>\n",
       "      <td>34</td>\n",
       "      <td>0</td>\n",
       "      <td>0</td>\n",
       "      <td>0</td>\n",
       "      <td>0</td>\n",
       "      <td>0</td>\n",
       "      <td>0</td>\n",
       "      <td>...</td>\n",
       "      <td>13559</td>\n",
       "      <td>14331</td>\n",
       "      <td>14948</td>\n",
       "      <td>15549</td>\n",
       "      <td>1518</td>\n",
       "      <td>1500</td>\n",
       "      <td>1000</td>\n",
       "      <td>1000</td>\n",
       "      <td>1000</td>\n",
       "      <td>5000</td>\n",
       "    </tr>\n",
       "    <tr>\n",
       "      <th>3</th>\n",
       "      <td>50000</td>\n",
       "      <td>2</td>\n",
       "      <td>1</td>\n",
       "      <td>37</td>\n",
       "      <td>0</td>\n",
       "      <td>0</td>\n",
       "      <td>0</td>\n",
       "      <td>0</td>\n",
       "      <td>0</td>\n",
       "      <td>0</td>\n",
       "      <td>...</td>\n",
       "      <td>49291</td>\n",
       "      <td>28314</td>\n",
       "      <td>28959</td>\n",
       "      <td>29547</td>\n",
       "      <td>2000</td>\n",
       "      <td>2019</td>\n",
       "      <td>1200</td>\n",
       "      <td>1100</td>\n",
       "      <td>1069</td>\n",
       "      <td>1000</td>\n",
       "    </tr>\n",
       "    <tr>\n",
       "      <th>4</th>\n",
       "      <td>50000</td>\n",
       "      <td>2</td>\n",
       "      <td>1</td>\n",
       "      <td>57</td>\n",
       "      <td>-1</td>\n",
       "      <td>0</td>\n",
       "      <td>-1</td>\n",
       "      <td>0</td>\n",
       "      <td>0</td>\n",
       "      <td>0</td>\n",
       "      <td>...</td>\n",
       "      <td>35835</td>\n",
       "      <td>20940</td>\n",
       "      <td>19146</td>\n",
       "      <td>19131</td>\n",
       "      <td>2000</td>\n",
       "      <td>36681</td>\n",
       "      <td>10000</td>\n",
       "      <td>9000</td>\n",
       "      <td>689</td>\n",
       "      <td>679</td>\n",
       "    </tr>\n",
       "  </tbody>\n",
       "</table>\n",
       "<p>5 rows × 22 columns</p>\n",
       "</div>"
      ],
      "text/plain": [
       "   LIMIT_BAL  EDUCATION  MARITAL_STATUS  AGE  PAY_0  PAY_2  PAY_3  PAY_4  \\\n",
       "0      20000          2               1   24      2      2     -1     -1   \n",
       "1     120000          2               2   26     -1      2      0      0   \n",
       "2      90000          2               2   34      0      0      0      0   \n",
       "3      50000          2               1   37      0      0      0      0   \n",
       "4      50000          2               1   57     -1      0     -1      0   \n",
       "\n",
       "   PAY_5  PAY_6  ...  BILL_AMT3           \"BILL_AMT4\"  BILL_AMT5  BILL_AMT6  \\\n",
       "0     -2     -2  ...        689                     0          0          0   \n",
       "1      0      2  ...       2682                  3272       3455       3261   \n",
       "2      0      0  ...      13559                 14331      14948      15549   \n",
       "3      0      0  ...      49291                 28314      28959      29547   \n",
       "4      0      0  ...      35835                 20940      19146      19131   \n",
       "\n",
       "   PAY_AMT1  PAY_AMT2  PAY_AMT3  PAY_AMT4  PAY_AMT5  PAY_AMT6  \n",
       "0         0       689         0         0         0         0  \n",
       "1         0      1000      1000      1000         0      2000  \n",
       "2      1518      1500      1000      1000      1000      5000  \n",
       "3      2000      2019      1200      1100      1069      1000  \n",
       "4      2000     36681     10000      9000       689       679  \n",
       "\n",
       "[5 rows x 22 columns]"
      ]
     },
     "execution_count": 41,
     "metadata": {},
     "output_type": "execute_result"
    }
   ],
   "source": [
    "# Define features set X by selecting all columns but DEFAULT\n",
    "X = cc_df.drop(columns=[\"DEFAULT\"])\n",
    "\n",
    "# Display the features DataFrame\n",
    "X.head()\n"
   ]
  },
  {
   "cell_type": "markdown",
   "metadata": {},
   "source": [
    "## Step 3: Create the target `y` by assigning the values of the DataFrame “DEFAULT” column."
   ]
  },
  {
   "cell_type": "code",
   "execution_count": 42,
   "metadata": {},
   "outputs": [
    {
     "data": {
      "text/plain": [
       "0    1\n",
       "1    1\n",
       "2    0\n",
       "3    0\n",
       "4    0\n",
       "Name: DEFAULT, dtype: int64"
      ]
     },
     "execution_count": 42,
     "metadata": {},
     "output_type": "execute_result"
    }
   ],
   "source": [
    "# Define target set by selecting the DEFAULT column\n",
    "y = cc_df[\"DEFAULT\"]\n",
    "\n",
    "# Display a sample y\n",
    "\n",
    "y.head()"
   ]
  },
  {
   "cell_type": "markdown",
   "metadata": {},
   "source": [
    "## Step 4: Create the training and testing sets using the `train_test_split` function from scikit-learn."
   ]
  },
  {
   "cell_type": "code",
   "execution_count": 43,
   "metadata": {},
   "outputs": [],
   "source": [
    "# Create training and testing datasets using train_test_split\n",
    "# Assign the function a random_state equal to 1\n",
    "X_train, X_test, y_train, y_test = train_test_split(X, y, random_state=1)\n"
   ]
  },
  {
   "cell_type": "markdown",
   "metadata": {},
   "source": [
    "## Step 5: Scale the features data using the `StandardScaler` from sklearn."
   ]
  },
  {
   "cell_type": "code",
   "execution_count": 44,
   "metadata": {},
   "outputs": [],
   "source": [
    "# Create the StandardScaler instance\n",
    "X_scaler = StandardScaler()\n"
   ]
  },
  {
   "cell_type": "code",
   "execution_count": 45,
   "metadata": {},
   "outputs": [
    {
     "data": {
      "text/plain": [
       "StandardScaler()"
      ]
     },
     "execution_count": 45,
     "metadata": {},
     "output_type": "execute_result"
    }
   ],
   "source": [
    "# Fit the scaler to the features training dataset\n",
    "\n",
    "X_scaler.fit(X_train)"
   ]
  },
  {
   "cell_type": "code",
   "execution_count": 46,
   "metadata": {},
   "outputs": [],
   "source": [
    "# Scale both the training and testing data from the features dataset\n",
    "X_train_scaled = X_scaler.transform(X_train)\n",
    "X_test_scaled = X_scaler.transform(X_test) \n"
   ]
  },
  {
   "cell_type": "markdown",
   "metadata": {},
   "source": [
    "## Step 6: Create a neural network model with an input layer that consists of 22 inputs, one hidden layer, and an output layer. Use the `units` parameter to define 12 neurons for the hidden layer and a single output for the output layer. Use the ReLU activation function for the hidden layer and the sigmoid activation function for the output layer."
   ]
  },
  {
   "cell_type": "code",
   "execution_count": 47,
   "metadata": {},
   "outputs": [],
   "source": [
    "# Imports\n",
    "import tensorflow as tf\n",
    "from tensorflow.keras.layers import Dense\n",
    "from tensorflow.keras.models import Sequential"
   ]
  },
  {
   "cell_type": "code",
   "execution_count": 48,
   "metadata": {},
   "outputs": [],
   "source": [
    "# Define the the number of inputs to the model\n",
    "number_inputs = 22\n",
    "\n",
    "# Define the number of hidden nodes for the model\n",
    "number_hidden_nodes = 12\n",
    "\n",
    "# Create the Sequential model instance\n",
    "neuron = Sequential()\n",
    "\n",
    "# Add a Dense layer specifying the number of inputs, the number of hidden nodes, and the activation function\n",
    "neuron.add(Dense(units=number_hidden_nodes, activation=\"relu\", input_dim=number_inputs))\n",
    "\n",
    "# Add the output layer to the model specifying the number of output neurons and activation function\n",
    "number_classes = 1\n",
    "                 \n",
    "neuron.add(Dense(units=number_classes, activation=\"sigmoid\"))\n",
    "                 "
   ]
  },
  {
   "cell_type": "markdown",
   "metadata": {},
   "source": [
    "## Step 7: Display the model structure using the `summary` function."
   ]
  },
  {
   "cell_type": "code",
   "execution_count": 49,
   "metadata": {},
   "outputs": [
    {
     "name": "stdout",
     "output_type": "stream",
     "text": [
      "Model: \"sequential_2\"\n",
      "_________________________________________________________________\n",
      " Layer (type)                Output Shape              Param #   \n",
      "=================================================================\n",
      " dense_4 (Dense)             (None, 12)                276       \n",
      "                                                                 \n",
      " dense_5 (Dense)             (None, 1)                 13        \n",
      "                                                                 \n",
      "=================================================================\n",
      "Total params: 289\n",
      "Trainable params: 289\n",
      "Non-trainable params: 0\n",
      "_________________________________________________________________\n"
     ]
    }
   ],
   "source": [
    "# Display the Sequential model summary\n",
    "\n",
    "neuron.summary()\n"
   ]
  },
  {
   "cell_type": "code",
   "execution_count": 50,
   "metadata": {},
   "outputs": [],
   "source": [
    "# Comppile the model - think of this as defining the NN's structure (like designing/building a house)\n",
    "\n",
    "neuron.compile(loss=\"binary_crossentropy\", optimizer=\"adam\", metrics=[\"accuracy\"])"
   ]
  },
  {
   "cell_type": "code",
   "execution_count": 51,
   "metadata": {},
   "outputs": [],
   "source": [
    "# loss = specifices the loss function.. loss function uses ML algorithms to score the performance \n",
    "# of the model after each iteration --> this allows us to see the how the model's performance changes over each iteration\n",
    "\n",
    "\n",
    "# binary_crossentropy is a type of loss function - designed to deal with BINARY CLASSIFICATIOn problems \n",
    "\n",
    "# optimizer is a type of OPTIMIZATION FUNCTION - this function shapes and molds a NN model while the model is trained on the data, which ensures the model's best performance\n",
    "# optimization function reduces the model's losses and provides the most accurate output possible \n",
    "# \"adam\" optimizer : this uses a GRADIENT DESCENT approach --> which ensures that weaker classifying vairables and features will NOT confuse the model \n",
    "# and cause it to return less accurate results \n",
    "\n",
    "# Gradient Descent is used to identify the combination of function paramerters that will allow the model to learn as efficiently as possible, until it has learned everything it can "
   ]
  },
  {
   "cell_type": "code",
   "execution_count": 52,
   "metadata": {},
   "outputs": [],
   "source": [
    "# Evaluation metrics \n",
    "\n",
    "# metrics: parameter that specifices additional metrics that assess the quality of a NN model \n",
    "\n",
    "# 2 main evalulation metrics: MODEL PREDICITIVE ACCURACY & MODEL MEAN SQUARED ERROR (MSE) \n",
    "\n",
    "# - Model predictive accuracy = (accuracy) for classification models --> 0 to 1 scale -- closer to 1 is higher accuracy value  \n",
    "\n",
    "# - Model mean square error = (mse) for regression models --> 0 to 1 scale -- close to 0, the more accurate the prediction \n",
    "\n"
   ]
  },
  {
   "cell_type": "code",
   "execution_count": null,
   "metadata": {},
   "outputs": [],
   "source": []
  },
  {
   "cell_type": "code",
   "execution_count": 53,
   "metadata": {},
   "outputs": [
    {
     "name": "stdout",
     "output_type": "stream",
     "text": [
      "Epoch 1/100\n",
      "704/704 [==============================] - 2s 2ms/step - loss: 0.5209 - accuracy: 0.7733\n",
      "Epoch 2/100\n",
      "704/704 [==============================] - 1s 1ms/step - loss: 0.4596 - accuracy: 0.8143\n",
      "Epoch 3/100\n",
      "704/704 [==============================] - 1s 1ms/step - loss: 0.4512 - accuracy: 0.8173\n",
      "Epoch 4/100\n",
      "704/704 [==============================] - 1s 2ms/step - loss: 0.4471 - accuracy: 0.8175\n",
      "Epoch 5/100\n",
      "704/704 [==============================] - 1s 2ms/step - loss: 0.4445 - accuracy: 0.8181\n",
      "Epoch 6/100\n",
      "704/704 [==============================] - 1s 1ms/step - loss: 0.4419 - accuracy: 0.8202\n",
      "Epoch 7/100\n",
      "704/704 [==============================] - 1s 2ms/step - loss: 0.4404 - accuracy: 0.8202\n",
      "Epoch 8/100\n",
      "704/704 [==============================] - 1s 1ms/step - loss: 0.4390 - accuracy: 0.8207\n",
      "Epoch 9/100\n",
      "704/704 [==============================] - 1s 1ms/step - loss: 0.4377 - accuracy: 0.8205\n",
      "Epoch 10/100\n",
      "704/704 [==============================] - 1s 1ms/step - loss: 0.4369 - accuracy: 0.8203\n",
      "Epoch 11/100\n",
      "704/704 [==============================] - 1s 2ms/step - loss: 0.4362 - accuracy: 0.8202\n",
      "Epoch 12/100\n",
      "704/704 [==============================] - 1s 2ms/step - loss: 0.4353 - accuracy: 0.8207\n",
      "Epoch 13/100\n",
      "704/704 [==============================] - 1s 2ms/step - loss: 0.4348 - accuracy: 0.8216\n",
      "Epoch 14/100\n",
      "704/704 [==============================] - 1s 2ms/step - loss: 0.4343 - accuracy: 0.8216\n",
      "Epoch 15/100\n",
      "704/704 [==============================] - 1s 2ms/step - loss: 0.4339 - accuracy: 0.8213\n",
      "Epoch 16/100\n",
      "704/704 [==============================] - 1s 2ms/step - loss: 0.4338 - accuracy: 0.8216\n",
      "Epoch 17/100\n",
      "704/704 [==============================] - 1s 2ms/step - loss: 0.4331 - accuracy: 0.8215\n",
      "Epoch 18/100\n",
      "704/704 [==============================] - 1s 2ms/step - loss: 0.4334 - accuracy: 0.8219\n",
      "Epoch 19/100\n",
      "704/704 [==============================] - 1s 2ms/step - loss: 0.4327 - accuracy: 0.8216\n",
      "Epoch 20/100\n",
      "704/704 [==============================] - 1s 2ms/step - loss: 0.4323 - accuracy: 0.8213\n",
      "Epoch 21/100\n",
      "704/704 [==============================] - 1s 1ms/step - loss: 0.4317 - accuracy: 0.8221\n",
      "Epoch 22/100\n",
      "704/704 [==============================] - 1s 2ms/step - loss: 0.4317 - accuracy: 0.8225\n",
      "Epoch 23/100\n",
      "704/704 [==============================] - 1s 2ms/step - loss: 0.4312 - accuracy: 0.8219\n",
      "Epoch 24/100\n",
      "704/704 [==============================] - 1s 2ms/step - loss: 0.4309 - accuracy: 0.8220\n",
      "Epoch 25/100\n",
      "704/704 [==============================] - 1s 2ms/step - loss: 0.4308 - accuracy: 0.8231\n",
      "Epoch 26/100\n",
      "704/704 [==============================] - 1s 2ms/step - loss: 0.4305 - accuracy: 0.8218\n",
      "Epoch 27/100\n",
      "704/704 [==============================] - 1s 2ms/step - loss: 0.4302 - accuracy: 0.8217\n",
      "Epoch 28/100\n",
      "704/704 [==============================] - 1s 2ms/step - loss: 0.4304 - accuracy: 0.8222\n",
      "Epoch 29/100\n",
      "704/704 [==============================] - 1s 2ms/step - loss: 0.4299 - accuracy: 0.8218\n",
      "Epoch 30/100\n",
      "704/704 [==============================] - 1s 2ms/step - loss: 0.4299 - accuracy: 0.8242\n",
      "Epoch 31/100\n",
      "704/704 [==============================] - 1s 2ms/step - loss: 0.4296 - accuracy: 0.8221\n",
      "Epoch 32/100\n",
      "704/704 [==============================] - 1s 2ms/step - loss: 0.4296 - accuracy: 0.8226\n",
      "Epoch 33/100\n",
      "704/704 [==============================] - 1s 2ms/step - loss: 0.4295 - accuracy: 0.8224\n",
      "Epoch 34/100\n",
      "704/704 [==============================] - 1s 2ms/step - loss: 0.4290 - accuracy: 0.8217\n",
      "Epoch 35/100\n",
      "704/704 [==============================] - 1s 2ms/step - loss: 0.4287 - accuracy: 0.8229\n",
      "Epoch 36/100\n",
      "704/704 [==============================] - 1s 2ms/step - loss: 0.4290 - accuracy: 0.8228\n",
      "Epoch 37/100\n",
      "704/704 [==============================] - 1s 2ms/step - loss: 0.4289 - accuracy: 0.8234\n",
      "Epoch 38/100\n",
      "704/704 [==============================] - 1s 2ms/step - loss: 0.4287 - accuracy: 0.8219\n",
      "Epoch 39/100\n",
      "704/704 [==============================] - 1s 2ms/step - loss: 0.4286 - accuracy: 0.8226\n",
      "Epoch 40/100\n",
      "704/704 [==============================] - 1s 2ms/step - loss: 0.4285 - accuracy: 0.8228\n",
      "Epoch 41/100\n",
      "704/704 [==============================] - 1s 2ms/step - loss: 0.4286 - accuracy: 0.8230\n",
      "Epoch 42/100\n",
      "704/704 [==============================] - 1s 2ms/step - loss: 0.4282 - accuracy: 0.8236\n",
      "Epoch 43/100\n",
      "704/704 [==============================] - 1s 2ms/step - loss: 0.4282 - accuracy: 0.8223\n",
      "Epoch 44/100\n",
      "704/704 [==============================] - 1s 2ms/step - loss: 0.4284 - accuracy: 0.8222\n",
      "Epoch 45/100\n",
      "704/704 [==============================] - 1s 2ms/step - loss: 0.4280 - accuracy: 0.8226\n",
      "Epoch 46/100\n",
      "704/704 [==============================] - 1s 2ms/step - loss: 0.4280 - accuracy: 0.8228\n",
      "Epoch 47/100\n",
      "704/704 [==============================] - 1s 2ms/step - loss: 0.4278 - accuracy: 0.8228\n",
      "Epoch 48/100\n",
      "704/704 [==============================] - 1s 2ms/step - loss: 0.4281 - accuracy: 0.8227\n",
      "Epoch 49/100\n",
      "704/704 [==============================] - 1s 2ms/step - loss: 0.4280 - accuracy: 0.8230\n",
      "Epoch 50/100\n",
      "704/704 [==============================] - 1s 2ms/step - loss: 0.4275 - accuracy: 0.8224\n",
      "Epoch 51/100\n",
      "704/704 [==============================] - 1s 2ms/step - loss: 0.4276 - accuracy: 0.8234\n",
      "Epoch 52/100\n",
      "704/704 [==============================] - 1s 2ms/step - loss: 0.4277 - accuracy: 0.8220\n",
      "Epoch 53/100\n",
      "704/704 [==============================] - 1s 2ms/step - loss: 0.4273 - accuracy: 0.8224\n",
      "Epoch 54/100\n",
      "704/704 [==============================] - 1s 2ms/step - loss: 0.4274 - accuracy: 0.8221\n",
      "Epoch 55/100\n",
      "704/704 [==============================] - 1s 2ms/step - loss: 0.4273 - accuracy: 0.8229\n",
      "Epoch 56/100\n",
      "704/704 [==============================] - 1s 2ms/step - loss: 0.4273 - accuracy: 0.8224\n",
      "Epoch 57/100\n",
      "704/704 [==============================] - 1s 2ms/step - loss: 0.4268 - accuracy: 0.8225\n",
      "Epoch 58/100\n",
      "704/704 [==============================] - 1s 2ms/step - loss: 0.4271 - accuracy: 0.8231\n",
      "Epoch 59/100\n",
      "704/704 [==============================] - 1s 2ms/step - loss: 0.4272 - accuracy: 0.8221\n",
      "Epoch 60/100\n",
      "704/704 [==============================] - 1s 2ms/step - loss: 0.4268 - accuracy: 0.8229\n",
      "Epoch 61/100\n",
      "704/704 [==============================] - 1s 2ms/step - loss: 0.4266 - accuracy: 0.8222\n",
      "Epoch 62/100\n",
      "704/704 [==============================] - 1s 2ms/step - loss: 0.4270 - accuracy: 0.8227\n",
      "Epoch 63/100\n",
      "704/704 [==============================] - 1s 2ms/step - loss: 0.4270 - accuracy: 0.8224\n",
      "Epoch 64/100\n",
      "704/704 [==============================] - 1s 2ms/step - loss: 0.4268 - accuracy: 0.8232\n",
      "Epoch 65/100\n",
      "704/704 [==============================] - 1s 2ms/step - loss: 0.4272 - accuracy: 0.8225\n",
      "Epoch 66/100\n",
      "704/704 [==============================] - 1s 2ms/step - loss: 0.4263 - accuracy: 0.8227\n",
      "Epoch 67/100\n",
      "704/704 [==============================] - 1s 2ms/step - loss: 0.4262 - accuracy: 0.8215\n",
      "Epoch 68/100\n",
      "704/704 [==============================] - 1s 2ms/step - loss: 0.4265 - accuracy: 0.8216\n",
      "Epoch 69/100\n",
      "704/704 [==============================] - 1s 2ms/step - loss: 0.4262 - accuracy: 0.8228\n",
      "Epoch 70/100\n",
      "704/704 [==============================] - 1s 2ms/step - loss: 0.4255 - accuracy: 0.8228\n",
      "Epoch 71/100\n",
      "704/704 [==============================] - 1s 2ms/step - loss: 0.4262 - accuracy: 0.8225\n",
      "Epoch 72/100\n",
      "704/704 [==============================] - 1s 2ms/step - loss: 0.4261 - accuracy: 0.8220\n",
      "Epoch 73/100\n",
      "704/704 [==============================] - 1s 2ms/step - loss: 0.4262 - accuracy: 0.8227\n",
      "Epoch 74/100\n",
      "704/704 [==============================] - 1s 2ms/step - loss: 0.4261 - accuracy: 0.8220\n",
      "Epoch 75/100\n",
      "704/704 [==============================] - 1s 2ms/step - loss: 0.4259 - accuracy: 0.8225\n",
      "Epoch 76/100\n",
      "704/704 [==============================] - 1s 2ms/step - loss: 0.4257 - accuracy: 0.8224\n",
      "Epoch 77/100\n",
      "704/704 [==============================] - 1s 2ms/step - loss: 0.4259 - accuracy: 0.8218\n",
      "Epoch 78/100\n",
      "704/704 [==============================] - 1s 2ms/step - loss: 0.4261 - accuracy: 0.8223\n",
      "Epoch 79/100\n",
      "704/704 [==============================] - 1s 2ms/step - loss: 0.4259 - accuracy: 0.8211\n",
      "Epoch 80/100\n",
      "704/704 [==============================] - 1s 2ms/step - loss: 0.4255 - accuracy: 0.8220\n",
      "Epoch 81/100\n",
      "704/704 [==============================] - 1s 2ms/step - loss: 0.4256 - accuracy: 0.8232\n",
      "Epoch 82/100\n",
      "704/704 [==============================] - 1s 2ms/step - loss: 0.4256 - accuracy: 0.8223\n",
      "Epoch 83/100\n",
      "704/704 [==============================] - 1s 2ms/step - loss: 0.4256 - accuracy: 0.8215\n",
      "Epoch 84/100\n",
      "704/704 [==============================] - 1s 2ms/step - loss: 0.4256 - accuracy: 0.8218\n",
      "Epoch 85/100\n",
      "704/704 [==============================] - 1s 2ms/step - loss: 0.4254 - accuracy: 0.8227\n",
      "Epoch 86/100\n",
      "704/704 [==============================] - 1s 2ms/step - loss: 0.4256 - accuracy: 0.8226\n",
      "Epoch 87/100\n",
      "704/704 [==============================] - 1s 2ms/step - loss: 0.4248 - accuracy: 0.8216\n",
      "Epoch 88/100\n",
      "704/704 [==============================] - 2s 2ms/step - loss: 0.4254 - accuracy: 0.8220\n",
      "Epoch 89/100\n",
      "704/704 [==============================] - 2s 2ms/step - loss: 0.4254 - accuracy: 0.8217\n",
      "Epoch 90/100\n",
      "704/704 [==============================] - 1s 2ms/step - loss: 0.4246 - accuracy: 0.8226\n",
      "Epoch 91/100\n",
      "704/704 [==============================] - 1s 2ms/step - loss: 0.4255 - accuracy: 0.8220\n",
      "Epoch 92/100\n",
      "704/704 [==============================] - 1s 2ms/step - loss: 0.4247 - accuracy: 0.8215\n",
      "Epoch 93/100\n",
      "704/704 [==============================] - 1s 2ms/step - loss: 0.4248 - accuracy: 0.8216\n",
      "Epoch 94/100\n",
      "704/704 [==============================] - 1s 2ms/step - loss: 0.4250 - accuracy: 0.8220\n",
      "Epoch 95/100\n",
      "704/704 [==============================] - 1s 2ms/step - loss: 0.4254 - accuracy: 0.8224\n",
      "Epoch 96/100\n",
      "704/704 [==============================] - 1s 2ms/step - loss: 0.4249 - accuracy: 0.8214\n",
      "Epoch 97/100\n",
      "704/704 [==============================] - 1s 2ms/step - loss: 0.4250 - accuracy: 0.8215\n",
      "Epoch 98/100\n",
      "704/704 [==============================] - 1s 2ms/step - loss: 0.4246 - accuracy: 0.8221\n",
      "Epoch 99/100\n",
      "704/704 [==============================] - 1s 2ms/step - loss: 0.4249 - accuracy: 0.8221\n",
      "Epoch 100/100\n",
      "704/704 [==============================] - 1s 2ms/step - loss: 0.4250 - accuracy: 0.8216\n"
     ]
    }
   ],
   "source": [
    "# Fitting the model \n",
    "\n",
    "model = neuron.fit(X_train_scaled, y_train, epochs=100)"
   ]
  },
  {
   "cell_type": "code",
   "execution_count": 36,
   "metadata": {},
   "outputs": [],
   "source": [
    "# Create a DataFrame with the history dictionary\n",
    "\n",
    "df = pd.DataFrame(model.history, index=range(1, len(model.history[\"loss\"]) + 1))"
   ]
  },
  {
   "cell_type": "code",
   "execution_count": 37,
   "metadata": {},
   "outputs": [
    {
     "data": {
      "text/plain": [
       "<AxesSubplot:>"
      ]
     },
     "execution_count": 37,
     "metadata": {},
     "output_type": "execute_result"
    },
    {
     "data": {
      "image/png": "[encoded data removed]",
      "text/plain": [
       "<Figure size 432x288 with 1 Axes>"
      ]
     },
     "metadata": {
      "needs_background": "light"
     },
     "output_type": "display_data"
    }
   ],
   "source": [
    "# Plot the loss \n",
    "\n",
    "df.plot(y=\"loss\")"
   ]
  },
  {
   "cell_type": "code",
   "execution_count": 38,
   "metadata": {},
   "outputs": [
    {
     "data": {
      "text/plain": [
       "<AxesSubplot:>"
      ]
     },
     "execution_count": 38,
     "metadata": {},
     "output_type": "execute_result"
    },
    {
     "data": {
      "image/png": "[encoded data removed]",
      "text/plain": [
       "<Figure size 432x288 with 1 Axes>"
      ]
     },
     "metadata": {
      "needs_background": "light"
     },
     "output_type": "display_data"
    }
   ],
   "source": [
    "# Plot the accuracy\n",
    "\n",
    "df.plot(y=\"accuracy\")"
   ]
  },
  {
   "cell_type": "code",
   "execution_count": 55,
   "metadata": {},
   "outputs": [
    {
     "name": "stdout",
     "output_type": "stream",
     "text": [
      "235/235 - 12s - loss: 0.4393 - accuracy: 0.8155 - 12s/epoch - 52ms/step\n"
     ]
    }
   ],
   "source": [
    "# Evaluate the model using testing data\n",
    "\n",
    "model_loss, model_accuracy = neuron.evaluate(X_test_scaled, y_test, verbose=2)"
   ]
  },
  {
   "cell_type": "code",
   "execution_count": 56,
   "metadata": {},
   "outputs": [
    {
     "name": "stdout",
     "output_type": "stream",
     "text": [
      "Loss: 0.43928298354148865, Accuracy: 0.8154666423797607\n"
     ]
    }
   ],
   "source": [
    "# Display evaluation results\n",
    "\n",
    "print(f\"Loss: {model_loss}, Accuracy: {model_accuracy}\")"
   ]
  },
  {
   "cell_type": "code",
   "execution_count": 58,
   "metadata": {},
   "outputs": [],
   "source": [
    "from sklearn.datasets import make_blobs"
   ]
  },
  {
   "cell_type": "code",
   "execution_count": 59,
   "metadata": {},
   "outputs": [],
   "source": [
    "# Create 10 new samples of dummy data\n",
    "\n",
    "new_X, new_y = make_blobs(n_samples=10, centers=2, n_features=2, random_state=1) \n",
    "\n"
   ]
  },
  {
   "cell_type": "code",
   "execution_count": 60,
   "metadata": {},
   "outputs": [
    {
     "ename": "ValueError",
     "evalue": "in user code:\n\n    File \"C:\\Users\\aarch\\anaconda3\\envs\\dev\\lib\\site-packages\\keras\\engine\\training.py\", line 1845, in predict_function  *\n        return step_function(self, iterator)\n    File \"C:\\Users\\aarch\\anaconda3\\envs\\dev\\lib\\site-packages\\keras\\engine\\training.py\", line 1834, in step_function  **\n        outputs = model.distribute_strategy.run(run_step, args=(data,))\n    File \"C:\\Users\\aarch\\anaconda3\\envs\\dev\\lib\\site-packages\\keras\\engine\\training.py\", line 1823, in run_step  **\n        outputs = model.predict_step(data)\n    File \"C:\\Users\\aarch\\anaconda3\\envs\\dev\\lib\\site-packages\\keras\\engine\\training.py\", line 1791, in predict_step\n        return self(x, training=False)\n    File \"C:\\Users\\aarch\\anaconda3\\envs\\dev\\lib\\site-packages\\keras\\utils\\traceback_utils.py\", line 67, in error_handler\n        raise e.with_traceback(filtered_tb) from None\n    File \"C:\\Users\\aarch\\anaconda3\\envs\\dev\\lib\\site-packages\\keras\\engine\\input_spec.py\", line 264, in assert_input_compatibility\n        raise ValueError(f'Input {input_index} of layer \"{layer_name}\" is '\n\n    ValueError: Input 0 of layer \"sequential_2\" is incompatible with the layer: expected shape=(None, 22), found shape=(None, 2)\n",
     "output_type": "error",
     "traceback": [
      "\u001b[1;31m---------------------------------------------------------------------------\u001b[0m",
      "\u001b[1;31mValueError\u001b[0m                                Traceback (most recent call last)",
      "Input \u001b[1;32mIn [60]\u001b[0m, in \u001b[0;36m<cell line: 3>\u001b[1;34m()\u001b[0m\n\u001b[0;32m      1\u001b[0m \u001b[38;5;66;03m# Make predictions\u001b[39;00m\n\u001b[1;32m----> 3\u001b[0m predictions \u001b[38;5;241m=\u001b[39m (\u001b[43mneuron\u001b[49m\u001b[38;5;241;43m.\u001b[39;49m\u001b[43mpredict\u001b[49m\u001b[43m(\u001b[49m\u001b[43mnew_X\u001b[49m\u001b[43m)\u001b[49m \u001b[38;5;241m>\u001b[39m \u001b[38;5;241m0.5\u001b[39m)\u001b[38;5;241m.\u001b[39mastype(\u001b[38;5;124m\"\u001b[39m\u001b[38;5;124mint32\u001b[39m\u001b[38;5;124m\"\u001b[39m)\n",
      "File \u001b[1;32m~\\anaconda3\\envs\\dev\\lib\\site-packages\\keras\\utils\\traceback_utils.py:67\u001b[0m, in \u001b[0;36mfilter_traceback.<locals>.error_handler\u001b[1;34m(*args, **kwargs)\u001b[0m\n\u001b[0;32m     65\u001b[0m \u001b[38;5;28;01mexcept\u001b[39;00m \u001b[38;5;167;01mException\u001b[39;00m \u001b[38;5;28;01mas\u001b[39;00m e:  \u001b[38;5;66;03m# pylint: disable=broad-except\u001b[39;00m\n\u001b[0;32m     66\u001b[0m   filtered_tb \u001b[38;5;241m=\u001b[39m _process_traceback_frames(e\u001b[38;5;241m.\u001b[39m__traceback__)\n\u001b[1;32m---> 67\u001b[0m   \u001b[38;5;28;01mraise\u001b[39;00m e\u001b[38;5;241m.\u001b[39mwith_traceback(filtered_tb) \u001b[38;5;28;01mfrom\u001b[39;00m \u001b[38;5;28mNone\u001b[39m\n\u001b[0;32m     68\u001b[0m \u001b[38;5;28;01mfinally\u001b[39;00m:\n\u001b[0;32m     69\u001b[0m   \u001b[38;5;28;01mdel\u001b[39;00m filtered_tb\n",
      "File \u001b[1;32m~\\AppData\\Local\\Temp\\__autograph_generated_filevaa6zg4e.py:15\u001b[0m, in \u001b[0;36mouter_factory.<locals>.inner_factory.<locals>.tf__predict_function\u001b[1;34m(iterator)\u001b[0m\n\u001b[0;32m     13\u001b[0m \u001b[38;5;28;01mtry\u001b[39;00m:\n\u001b[0;32m     14\u001b[0m     do_return \u001b[38;5;241m=\u001b[39m \u001b[38;5;28;01mTrue\u001b[39;00m\n\u001b[1;32m---> 15\u001b[0m     retval_ \u001b[38;5;241m=\u001b[39m ag__\u001b[38;5;241m.\u001b[39mconverted_call(ag__\u001b[38;5;241m.\u001b[39mld(step_function), (ag__\u001b[38;5;241m.\u001b[39mld(\u001b[38;5;28mself\u001b[39m), ag__\u001b[38;5;241m.\u001b[39mld(iterator)), \u001b[38;5;28;01mNone\u001b[39;00m, fscope)\n\u001b[0;32m     16\u001b[0m \u001b[38;5;28;01mexcept\u001b[39;00m:\n\u001b[0;32m     17\u001b[0m     do_return \u001b[38;5;241m=\u001b[39m \u001b[38;5;28;01mFalse\u001b[39;00m\n",
      "\u001b[1;31mValueError\u001b[0m: in user code:\n\n    File \"C:\\Users\\aarch\\anaconda3\\envs\\dev\\lib\\site-packages\\keras\\engine\\training.py\", line 1845, in predict_function  *\n        return step_function(self, iterator)\n    File \"C:\\Users\\aarch\\anaconda3\\envs\\dev\\lib\\site-packages\\keras\\engine\\training.py\", line 1834, in step_function  **\n        outputs = model.distribute_strategy.run(run_step, args=(data,))\n    File \"C:\\Users\\aarch\\anaconda3\\envs\\dev\\lib\\site-packages\\keras\\engine\\training.py\", line 1823, in run_step  **\n        outputs = model.predict_step(data)\n    File \"C:\\Users\\aarch\\anaconda3\\envs\\dev\\lib\\site-packages\\keras\\engine\\training.py\", line 1791, in predict_step\n        return self(x, training=False)\n    File \"C:\\Users\\aarch\\anaconda3\\envs\\dev\\lib\\site-packages\\keras\\utils\\traceback_utils.py\", line 67, in error_handler\n        raise e.with_traceback(filtered_tb) from None\n    File \"C:\\Users\\aarch\\anaconda3\\envs\\dev\\lib\\site-packages\\keras\\engine\\input_spec.py\", line 264, in assert_input_compatibility\n        raise ValueError(f'Input {input_index} of layer \"{layer_name}\" is '\n\n    ValueError: Input 0 of layer \"sequential_2\" is incompatible with the layer: expected shape=(None, 22), found shape=(None, 2)\n"
     ]
    }
   ],
   "source": [
    "# Make predictions\n",
    "\n",
    "predictions = (neuron.predict(new_X) > 0.5).astype(\"int32\")"
   ]
  },
  {
   "cell_type": "code",
   "execution_count": 61,
   "metadata": {},
   "outputs": [
    {
     "ename": "NameError",
     "evalue": "name 'predictions' is not defined",
     "output_type": "error",
     "traceback": [
      "\u001b[1;31m---------------------------------------------------------------------------\u001b[0m",
      "\u001b[1;31mNameError\u001b[0m                                 Traceback (most recent call last)",
      "Input \u001b[1;32mIn [61]\u001b[0m, in \u001b[0;36m<cell line: 3>\u001b[1;34m()\u001b[0m\n\u001b[0;32m      1\u001b[0m \u001b[38;5;66;03m# Create a DataFrame to compare the predictions with the actual values\u001b[39;00m\n\u001b[1;32m----> 3\u001b[0m results \u001b[38;5;241m=\u001b[39m pd\u001b[38;5;241m.\u001b[39mDataFrame({\u001b[38;5;124m\"\u001b[39m\u001b[38;5;124mpredictions\u001b[39m\u001b[38;5;124m\"\u001b[39m: \u001b[43mpredictions\u001b[49m\u001b[38;5;241m.\u001b[39mravel(), \u001b[38;5;124m\"\u001b[39m\u001b[38;5;124mactual\u001b[39m\u001b[38;5;124m\"\u001b[39m: new_y})\n",
      "\u001b[1;31mNameError\u001b[0m: name 'predictions' is not defined"
     ]
    }
   ],
   "source": [
    "# Create a DataFrame to compare the predictions with the actual values\n",
    "\n",
    "results = pd.DataFrame({\"predictions\": predictions.ravel(), \"actual\": new_y})\n",
    "\n"
   ]
  },
  {
   "cell_type": "code",
   "execution_count": null,
   "metadata": {},
   "outputs": [],
   "source": []
  }
 ],
 "metadata": {
  "file_extension": ".py",
  "kernelspec": {
   "display_name": "Python 3 (ipykernel)",
   "language": "python",
   "name": "python3"
  },
  "language_info": {
   "codemirror_mode": {
    "name": "ipython",
    "version": 3
   },
   "file_extension": ".py",
   "mimetype": "text/x-python",
   "name": "python",
   "nbconvert_exporter": "python",
   "pygments_lexer": "ipython3",
   "version": "3.8.12"
  },
  "mimetype": "text/x-python",
  "name": "python",
  "npconvert_exporter": "python",
  "pygments_lexer": "ipython3",
  "version": 3
 },
 "nbformat": 4,
 "nbformat_minor": 4
}
